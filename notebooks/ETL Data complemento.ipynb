{
 "cells": [
  {
   "cell_type": "code",
   "execution_count": 43,
   "metadata": {},
   "outputs": [
    {
     "name": "stderr",
     "output_type": "stream",
     "text": [
      "C:\\Users\\Usuario\\AppData\\Local\\Temp\\ipykernel_1720\\175799619.py:3: DtypeWarning: Columns (12,14) have mixed types. Specify dtype option on import or set low_memory=False.\n",
      "  data=pd.read_csv(\"1978-17.12.2015.csv\")\n"
     ]
    }
   ],
   "source": [
    "import pandas as pd\n",
    "import numpy as np\n",
    "data=pd.read_csv(\"1978-17.12.2015.csv\")\n",
    "columnas_deseadas=['Local Event Date', 'Event City', 'Event State', 'Event Type', \"Flight Phase\", \"Aircraft Make\", \"Aircraft Model\", \"Flight Conduct Code\", \"Total Fatalities\", \"Total Injuries\"]\n",
    "data = data[columnas_deseadas]\n",
    "data = data.replace('', np.nan)\n",
    "data.rename(columns={'Local Event Date':\"Fecha\",'Event City': 'Ciudad', \"Event State\":\"Estado\", \"Event Type\":\"Tipo_Evento\", \"Flight Phase\":\"Fase del vuelo\",'Aircraft Make':\"Fabricante\", \"Aircraft Model\":\"Modelo\", \"Flight Conduct Code\":\"Codigo_conducta\", \"Total Fatalities\":\"Total_fallecidos\", \"Total Injuries\":\"Total_heridos\"}, inplace=True)\n",
    "# Eliminar nulos\n",
    "data = data.dropna()"
   ]
  },
  {
   "cell_type": "code",
   "execution_count": null,
   "metadata": {},
   "outputs": [],
   "source": [
    "## SCRIPT DE PYTHON\n",
    "import pandas as pd\n",
    "import numpy as np\n",
    "\n",
    "# Columnas deseadas\n",
    "columnas_deseadas=['Local Event Date', 'Event City', 'Event State', 'Event Type', \"Flight Phase\", \"Aircraft Make\", \"Aircraft Model\", \"Flight Conduct Code\", \"Total Fatalities\", \"Total Injuries\"]\n",
    "data = data[columnas_deseadas]\n",
    "\n",
    "# Reemplazar los valores no numéricos por NaN\n",
    "data = data.replace('', np.nan)\n",
    "\n",
    "# Renombrar columnas\n",
    "data.rename(columns={'Local Event Date':\"Fecha\",'Event City': 'Ciudad', \"Event State\":\"Estado\", \"Event Type\":\"Tipo_Evento\", \"Flight Phase\":\"Fase del vuelo\",'Aircraft Make':\"Fabricante\", \"Aircraft Model\":\"Modelo\", \"Flight Conduct Code\":\"Codigo_conducta\", \"Total Fatalities\":\"Total_fallecidos\", \"Total Injuries\":\"Total_heridos\"}, inplace=True)\n",
    "\n",
    "# Restablecer los índices\n",
    "data.reset_index(drop=True, inplace=True)\n",
    "\n",
    "# Eliminar nulos\n",
    "data = data.dropna()"
   ]
  }
 ],
 "metadata": {
  "kernelspec": {
   "display_name": "ambiente",
   "language": "python",
   "name": "python3"
  },
  "language_info": {
   "codemirror_mode": {
    "name": "ipython",
    "version": 3
   },
   "file_extension": ".py",
   "mimetype": "text/x-python",
   "name": "python",
   "nbconvert_exporter": "python",
   "pygments_lexer": "ipython3",
   "version": "3.11.2"
  },
  "orig_nbformat": 4
 },
 "nbformat": 4,
 "nbformat_minor": 2
}
