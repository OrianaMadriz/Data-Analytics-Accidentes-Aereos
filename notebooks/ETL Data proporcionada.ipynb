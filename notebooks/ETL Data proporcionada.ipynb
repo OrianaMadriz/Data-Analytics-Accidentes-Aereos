{
 "cells": [
  {
   "cell_type": "code",
   "execution_count": 34,
   "metadata": {},
   "outputs": [],
   "source": [
    "import pandas as pd\n",
    "import numpy as np\n",
    "data=pd.read_csv(\"AccidentesAviones.csv\")\n",
    "columnas=['ID', 'fecha', 'HORA_declara', 'Ruta', 'OperadOR', 'flight_no', 'route',\n",
    "       'ac_type', 'registration', 'cn_ln', 'all_aboard', 'PASAJEROS_A_BORDO',\n",
    "       'crew_aboard', 'cantidad_de_fallecidos', 'passenger_fatalities',\n",
    "       'crew_fatalities', 'ground', 'summary']\n",
    "# Reemplazar los valores no numéricos por NaN\n",
    "data[columnas] = data[columnas].replace('?', np.nan)\n",
    "columnas_deseadas=['fecha', 'OperadOR', 'ac_type', 'all_aboard', 'cantidad_de_fallecidos','passenger_fatalities', 'ground', 'Ruta']\n",
    "data= data[columnas_deseadas]\n",
    "data.rename(columns={'fecha':\"Fecha\",'OperadOR': 'Operador-Aerolinea', \"ac_type\":\"Tipo_accidente\", \"all_aboard\":\"Total_bordo\", \"cantidad_de_fallecidos\":\"Fallecidos_a_bordo\",'passenger_fatalities':\"Pasajeros_fallecidos\", \"ground\":\"Fallecidos_tierra\", \"Ruta\":\"Localidad\"}, inplace=True)\n",
    "# Eliminar nulos\n",
    "data = data.dropna()\n",
    "# Restablecer los índices\n",
    "data.reset_index(drop=True, inplace=True)"
   ]
  },
  {
   "cell_type": "code",
   "execution_count": null,
   "metadata": {},
   "outputs": [],
   "source": [
    "## SCRIPT DE PYTHON PARA LEER LA BASE DE DATOS\n",
    "\n",
    "import pandas as pd\n",
    "import numpy as np\n",
    "\n",
    "# Columnas deseadas\n",
    "columnas_deseadas = ['fecha', 'OperadOR', 'ac_type', 'all_aboard', 'cantidad_de_fallecidos', 'passenger_fatalities', 'ground', 'Ruta']\n",
    "data = data[columnas_deseadas]\n",
    "\n",
    "# Reemplazar los valores no numéricos por NaN\n",
    "data[columnas_deseadas] = data[columnas_deseadas].replace('?', np.nan)\n",
    "\n",
    "# Renombrar columnas\n",
    "data.rename(columns={'fecha': 'Fecha', 'OperadOR': 'Operador-Aerolinea', 'ac_type': 'Tipo_accidente', 'all_aboard': 'Total_bordo', 'cantidad_de_fallecidos': 'Fallecidos_a_bordo', 'passenger_fatalities': 'Pasajeros_fallecidos', 'ground': 'Fallecidos_tierra', 'Ruta': 'Localidad'}, inplace=True)\n",
    "\n",
    "# Eliminar registros con valores nulos\n",
    "data = data.dropna()\n",
    "\n",
    "# Restablecer los índices\n",
    "data.reset_index(drop=True, inplace=True)\n",
    "\n",
    "# Mostrar los datos resultantes\n",
    "data"
   ]
  }
 ],
 "metadata": {
  "kernelspec": {
   "display_name": "ambiente",
   "language": "python",
   "name": "python3"
  },
  "language_info": {
   "codemirror_mode": {
    "name": "ipython",
    "version": 3
   },
   "file_extension": ".py",
   "mimetype": "text/x-python",
   "name": "python",
   "nbconvert_exporter": "python",
   "pygments_lexer": "ipython3",
   "version": "3.11.2"
  },
  "orig_nbformat": 4
 },
 "nbformat": 4,
 "nbformat_minor": 2
}
